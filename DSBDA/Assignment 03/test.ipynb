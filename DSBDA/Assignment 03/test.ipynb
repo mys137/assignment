{
 "cells": [
  {
   "cell_type": "code",
   "execution_count": 1,
   "metadata": {},
   "outputs": [],
   "source": [
    "import pandas as pd\n",
    "import numpy as np"
   ]
  },
  {
   "cell_type": "code",
   "execution_count": 2,
   "metadata": {},
   "outputs": [
    {
     "data": {
      "text/html": [
       "<div>\n",
       "<style scoped>\n",
       "    .dataframe tbody tr th:only-of-type {\n",
       "        vertical-align: middle;\n",
       "    }\n",
       "\n",
       "    .dataframe tbody tr th {\n",
       "        vertical-align: top;\n",
       "    }\n",
       "\n",
       "    .dataframe thead th {\n",
       "        text-align: right;\n",
       "    }\n",
       "</style>\n",
       "<table border=\"1\" class=\"dataframe\">\n",
       "  <thead>\n",
       "    <tr style=\"text-align: right;\">\n",
       "      <th></th>\n",
       "      <th>gender</th>\n",
       "      <th>NationalITy</th>\n",
       "      <th>PlaceofBirth</th>\n",
       "      <th>StageID</th>\n",
       "      <th>GradeID</th>\n",
       "      <th>SectionID</th>\n",
       "      <th>Topic</th>\n",
       "      <th>Semester</th>\n",
       "      <th>Relation</th>\n",
       "      <th>cns</th>\n",
       "      <th>dsa</th>\n",
       "      <th>oops</th>\n",
       "      <th>os</th>\n",
       "    </tr>\n",
       "  </thead>\n",
       "  <tbody>\n",
       "    <tr>\n",
       "      <th>0</th>\n",
       "      <td>NaN</td>\n",
       "      <td>KW</td>\n",
       "      <td>KuwaIT</td>\n",
       "      <td>lowerlevel</td>\n",
       "      <td>G-04</td>\n",
       "      <td>A</td>\n",
       "      <td>IT</td>\n",
       "      <td>F</td>\n",
       "      <td>Father</td>\n",
       "      <td>NaN</td>\n",
       "      <td>16.0</td>\n",
       "      <td>2</td>\n",
       "      <td>20</td>\n",
       "    </tr>\n",
       "    <tr>\n",
       "      <th>1</th>\n",
       "      <td>M</td>\n",
       "      <td>KW</td>\n",
       "      <td>NaN</td>\n",
       "      <td>lowerlevel</td>\n",
       "      <td>G-04</td>\n",
       "      <td>A</td>\n",
       "      <td>NaN</td>\n",
       "      <td>F</td>\n",
       "      <td>Father</td>\n",
       "      <td>20.0</td>\n",
       "      <td>20.0</td>\n",
       "      <td>3</td>\n",
       "      <td>25</td>\n",
       "    </tr>\n",
       "    <tr>\n",
       "      <th>2</th>\n",
       "      <td>M</td>\n",
       "      <td>KW</td>\n",
       "      <td>KuwaIT</td>\n",
       "      <td>NaN</td>\n",
       "      <td>G-04</td>\n",
       "      <td>A</td>\n",
       "      <td>IT</td>\n",
       "      <td>F</td>\n",
       "      <td>Father</td>\n",
       "      <td>10.0</td>\n",
       "      <td>7.0</td>\n",
       "      <td>0</td>\n",
       "      <td>30</td>\n",
       "    </tr>\n",
       "    <tr>\n",
       "      <th>3</th>\n",
       "      <td>M</td>\n",
       "      <td>KW</td>\n",
       "      <td>KuwaIT</td>\n",
       "      <td>lowerlevel</td>\n",
       "      <td>G-04</td>\n",
       "      <td>A</td>\n",
       "      <td>IT</td>\n",
       "      <td>F</td>\n",
       "      <td>Father</td>\n",
       "      <td>NaN</td>\n",
       "      <td>25.0</td>\n",
       "      <td>5</td>\n",
       "      <td>35</td>\n",
       "    </tr>\n",
       "    <tr>\n",
       "      <th>4</th>\n",
       "      <td>NaN</td>\n",
       "      <td>KW</td>\n",
       "      <td>KuwaIT</td>\n",
       "      <td>lowerlevel</td>\n",
       "      <td>G-04</td>\n",
       "      <td>A</td>\n",
       "      <td>IT</td>\n",
       "      <td>F</td>\n",
       "      <td>Father</td>\n",
       "      <td>40.0</td>\n",
       "      <td>50.0</td>\n",
       "      <td>12</td>\n",
       "      <td>50</td>\n",
       "    </tr>\n",
       "    <tr>\n",
       "      <th>5</th>\n",
       "      <td>F</td>\n",
       "      <td>KW</td>\n",
       "      <td>KuwaIT</td>\n",
       "      <td>lowerlevel</td>\n",
       "      <td>G-04</td>\n",
       "      <td>A</td>\n",
       "      <td>IT</td>\n",
       "      <td>F</td>\n",
       "      <td>Father</td>\n",
       "      <td>42.0</td>\n",
       "      <td>30.0</td>\n",
       "      <td>13</td>\n",
       "      <td>70</td>\n",
       "    </tr>\n",
       "    <tr>\n",
       "      <th>6</th>\n",
       "      <td>M</td>\n",
       "      <td>KW</td>\n",
       "      <td>KuwaIT</td>\n",
       "      <td>MiddleSchool</td>\n",
       "      <td>G-07</td>\n",
       "      <td>A</td>\n",
       "      <td>NaN</td>\n",
       "      <td>F</td>\n",
       "      <td>Father</td>\n",
       "      <td>35.0</td>\n",
       "      <td>12.0</td>\n",
       "      <td>0</td>\n",
       "      <td>17</td>\n",
       "    </tr>\n",
       "    <tr>\n",
       "      <th>7</th>\n",
       "      <td>M</td>\n",
       "      <td>KW</td>\n",
       "      <td>NaN</td>\n",
       "      <td>MiddleSchool</td>\n",
       "      <td>G-07</td>\n",
       "      <td>A</td>\n",
       "      <td>Math</td>\n",
       "      <td>F</td>\n",
       "      <td>NaN</td>\n",
       "      <td>NaN</td>\n",
       "      <td>NaN</td>\n",
       "      <td>15</td>\n",
       "      <td>22</td>\n",
       "    </tr>\n",
       "    <tr>\n",
       "      <th>8</th>\n",
       "      <td>F</td>\n",
       "      <td>KW</td>\n",
       "      <td>KuwaIT</td>\n",
       "      <td>MiddleSchool</td>\n",
       "      <td>G-07</td>\n",
       "      <td>A</td>\n",
       "      <td>Math</td>\n",
       "      <td>F</td>\n",
       "      <td>Father</td>\n",
       "      <td>12.0</td>\n",
       "      <td>21.0</td>\n",
       "      <td>16</td>\n",
       "      <td>50</td>\n",
       "    </tr>\n",
       "    <tr>\n",
       "      <th>9</th>\n",
       "      <td>F</td>\n",
       "      <td>KW</td>\n",
       "      <td>KuwaIT</td>\n",
       "      <td>MiddleSchool</td>\n",
       "      <td>G-07</td>\n",
       "      <td>B</td>\n",
       "      <td>IT</td>\n",
       "      <td>F</td>\n",
       "      <td>Father</td>\n",
       "      <td>NaN</td>\n",
       "      <td>80.0</td>\n",
       "      <td>25</td>\n",
       "      <td>70</td>\n",
       "    </tr>\n",
       "  </tbody>\n",
       "</table>\n",
       "</div>"
      ],
      "text/plain": [
       "  gender NationalITy PlaceofBirth       StageID GradeID SectionID Topic  \\\n",
       "0    NaN          KW       KuwaIT    lowerlevel    G-04         A    IT   \n",
       "1      M          KW          NaN    lowerlevel    G-04         A   NaN   \n",
       "2      M          KW       KuwaIT           NaN    G-04         A    IT   \n",
       "3      M          KW       KuwaIT    lowerlevel    G-04         A    IT   \n",
       "4    NaN          KW       KuwaIT    lowerlevel    G-04         A    IT   \n",
       "5      F          KW       KuwaIT    lowerlevel    G-04         A    IT   \n",
       "6      M          KW       KuwaIT  MiddleSchool    G-07         A   NaN   \n",
       "7      M          KW          NaN  MiddleSchool    G-07         A  Math   \n",
       "8      F          KW       KuwaIT  MiddleSchool    G-07         A  Math   \n",
       "9      F          KW       KuwaIT  MiddleSchool    G-07         B    IT   \n",
       "\n",
       "  Semester Relation   cns   dsa  oops  os  \n",
       "0        F   Father   NaN  16.0     2  20  \n",
       "1        F   Father  20.0  20.0     3  25  \n",
       "2        F   Father  10.0   7.0     0  30  \n",
       "3        F   Father   NaN  25.0     5  35  \n",
       "4        F   Father  40.0  50.0    12  50  \n",
       "5        F   Father  42.0  30.0    13  70  \n",
       "6        F   Father  35.0  12.0     0  17  \n",
       "7        F      NaN   NaN   NaN    15  22  \n",
       "8        F   Father  12.0  21.0    16  50  \n",
       "9        F   Father   NaN  80.0    25  70  "
      ]
     },
     "execution_count": 2,
     "metadata": {},
     "output_type": "execute_result"
    }
   ],
   "source": [
    "url = 'eduPerform.csv'\n",
    "df = pd.read_csv(url)\n",
    "df.head(10)"
   ]
  },
  {
   "cell_type": "code",
   "execution_count": 3,
   "metadata": {},
   "outputs": [
    {
     "name": "stdout",
     "output_type": "stream",
     "text": [
      "<class 'pandas.core.frame.DataFrame'>\n",
      "RangeIndex: 28 entries, 0 to 27\n",
      "Data columns (total 13 columns):\n",
      " #   Column        Non-Null Count  Dtype  \n",
      "---  ------        --------------  -----  \n",
      " 0   gender        22 non-null     object \n",
      " 1   NationalITy   27 non-null     object \n",
      " 2   PlaceofBirth  23 non-null     object \n",
      " 3   StageID       26 non-null     object \n",
      " 4   GradeID       27 non-null     object \n",
      " 5   SectionID     28 non-null     object \n",
      " 6   Topic         24 non-null     object \n",
      " 7   Semester      28 non-null     object \n",
      " 8   Relation      26 non-null     object \n",
      " 9   cns           21 non-null     float64\n",
      " 10  dsa           27 non-null     float64\n",
      " 11  oops          28 non-null     int64  \n",
      " 12  os            28 non-null     int64  \n",
      "dtypes: float64(2), int64(2), object(9)\n",
      "memory usage: 1.9+ KB\n"
     ]
    }
   ],
   "source": [
    "df.info()"
   ]
  },
  {
   "cell_type": "code",
   "execution_count": 4,
   "metadata": {},
   "outputs": [
    {
     "name": "stdout",
     "output_type": "stream",
     "text": [
      "cns     70.0\n",
      "dsa     88.0\n",
      "oops    44.0\n",
      "os      99.0\n",
      "dtype: float64\n"
     ]
    }
   ],
   "source": [
    "print(df.max(numeric_only=True))"
   ]
  },
  {
   "cell_type": "code",
   "execution_count": 5,
   "metadata": {},
   "outputs": [
    {
     "name": "stdout",
     "output_type": "stream",
     "text": [
      "99\n"
     ]
    }
   ],
   "source": [
    "print(df['os'].max())"
   ]
  },
  {
   "cell_type": "code",
   "execution_count": 6,
   "metadata": {},
   "outputs": [
    {
     "name": "stdout",
     "output_type": "stream",
     "text": [
      "cns     25.571429\n",
      "dsa     26.814815\n",
      "oops    16.428571\n",
      "os      53.392857\n",
      "dtype: float64\n"
     ]
    }
   ],
   "source": [
    "print(df.mean(numeric_only=True))"
   ]
  },
  {
   "cell_type": "code",
   "execution_count": 7,
   "metadata": {},
   "outputs": [
    {
     "name": "stdout",
     "output_type": "stream",
     "text": [
      "cns     20.0\n",
      "dsa     19.0\n",
      "oops    14.0\n",
      "os      50.0\n",
      "dtype: float64\n"
     ]
    }
   ],
   "source": [
    "print(df.median(numeric_only=True))"
   ]
  },
  {
   "cell_type": "code",
   "execution_count": 8,
   "metadata": {},
   "outputs": [
    {
     "name": "stdout",
     "output_type": "stream",
     "text": [
      "  gender NationalITy PlaceofBirth       StageID GradeID SectionID Topic  \\\n",
      "0      M          KW       KuwaIT  MiddleSchool    G-07         A    IT   \n",
      "1    NaN         NaN          NaN           NaN     NaN       NaN   NaN   \n",
      "2    NaN         NaN          NaN           NaN     NaN       NaN   NaN   \n",
      "3    NaN         NaN          NaN           NaN     NaN       NaN   NaN   \n",
      "4    NaN         NaN          NaN           NaN     NaN       NaN   NaN   \n",
      "5    NaN         NaN          NaN           NaN     NaN       NaN   NaN   \n",
      "\n",
      "  Semester Relation   cns   dsa  oops    os  \n",
      "0        F   Father  10.0   7.0   0.0  50.0  \n",
      "1      NaN      NaN  19.0  12.0   2.0  70.0  \n",
      "2      NaN      NaN  20.0  15.0  12.0  80.0  \n",
      "3      NaN      NaN   NaN  21.0   NaN  90.0  \n",
      "4      NaN      NaN   NaN  30.0   NaN   NaN  \n",
      "5      NaN      NaN   NaN  50.0   NaN   NaN  \n"
     ]
    }
   ],
   "source": [
    "print(df.mode())"
   ]
  },
  {
   "cell_type": "code",
   "execution_count": 9,
   "metadata": {},
   "outputs": [
    {
     "data": {
      "text/plain": [
       "cns     20.028908\n",
       "dsa     24.334270\n",
       "oops    13.658340\n",
       "os      28.342272\n",
       "dtype: float64"
      ]
     },
     "execution_count": 9,
     "metadata": {},
     "output_type": "execute_result"
    }
   ],
   "source": [
    "df.std(numeric_only=True)"
   ]
  },
  {
   "cell_type": "code",
   "execution_count": 10,
   "metadata": {},
   "outputs": [
    {
     "data": {
      "text/plain": [
       "cns     401.157143\n",
       "dsa     592.156695\n",
       "oops    186.550265\n",
       "os      803.284392\n",
       "dtype: float64"
      ]
     },
     "execution_count": 10,
     "metadata": {},
     "output_type": "execute_result"
    }
   ],
   "source": [
    "df.var(numeric_only=True)"
   ]
  },
  {
   "cell_type": "code",
   "execution_count": 11,
   "metadata": {},
   "outputs": [
    {
     "data": {
      "text/html": [
       "<div>\n",
       "<style scoped>\n",
       "    .dataframe tbody tr th:only-of-type {\n",
       "        vertical-align: middle;\n",
       "    }\n",
       "\n",
       "    .dataframe tbody tr th {\n",
       "        vertical-align: top;\n",
       "    }\n",
       "\n",
       "    .dataframe thead th {\n",
       "        text-align: right;\n",
       "    }\n",
       "</style>\n",
       "<table border=\"1\" class=\"dataframe\">\n",
       "  <thead>\n",
       "    <tr style=\"text-align: right;\">\n",
       "      <th></th>\n",
       "      <th>cns</th>\n",
       "      <th>dsa</th>\n",
       "      <th>oops</th>\n",
       "      <th>os</th>\n",
       "    </tr>\n",
       "  </thead>\n",
       "  <tbody>\n",
       "    <tr>\n",
       "      <th>count</th>\n",
       "      <td>21.000000</td>\n",
       "      <td>27.000000</td>\n",
       "      <td>28.000000</td>\n",
       "      <td>28.000000</td>\n",
       "    </tr>\n",
       "    <tr>\n",
       "      <th>mean</th>\n",
       "      <td>25.571429</td>\n",
       "      <td>26.814815</td>\n",
       "      <td>16.428571</td>\n",
       "      <td>53.392857</td>\n",
       "    </tr>\n",
       "    <tr>\n",
       "      <th>std</th>\n",
       "      <td>20.028908</td>\n",
       "      <td>24.334270</td>\n",
       "      <td>13.658340</td>\n",
       "      <td>28.342272</td>\n",
       "    </tr>\n",
       "    <tr>\n",
       "      <th>min</th>\n",
       "      <td>0.000000</td>\n",
       "      <td>0.000000</td>\n",
       "      <td>0.000000</td>\n",
       "      <td>11.000000</td>\n",
       "    </tr>\n",
       "    <tr>\n",
       "      <th>25%</th>\n",
       "      <td>10.000000</td>\n",
       "      <td>12.000000</td>\n",
       "      <td>3.000000</td>\n",
       "      <td>28.750000</td>\n",
       "    </tr>\n",
       "    <tr>\n",
       "      <th>50%</th>\n",
       "      <td>20.000000</td>\n",
       "      <td>19.000000</td>\n",
       "      <td>14.000000</td>\n",
       "      <td>50.000000</td>\n",
       "    </tr>\n",
       "    <tr>\n",
       "      <th>75%</th>\n",
       "      <td>36.000000</td>\n",
       "      <td>35.000000</td>\n",
       "      <td>26.250000</td>\n",
       "      <td>80.000000</td>\n",
       "    </tr>\n",
       "    <tr>\n",
       "      <th>max</th>\n",
       "      <td>70.000000</td>\n",
       "      <td>88.000000</td>\n",
       "      <td>44.000000</td>\n",
       "      <td>99.000000</td>\n",
       "    </tr>\n",
       "  </tbody>\n",
       "</table>\n",
       "</div>"
      ],
      "text/plain": [
       "             cns        dsa       oops         os\n",
       "count  21.000000  27.000000  28.000000  28.000000\n",
       "mean   25.571429  26.814815  16.428571  53.392857\n",
       "std    20.028908  24.334270  13.658340  28.342272\n",
       "min     0.000000   0.000000   0.000000  11.000000\n",
       "25%    10.000000  12.000000   3.000000  28.750000\n",
       "50%    20.000000  19.000000  14.000000  50.000000\n",
       "75%    36.000000  35.000000  26.250000  80.000000\n",
       "max    70.000000  88.000000  44.000000  99.000000"
      ]
     },
     "execution_count": 11,
     "metadata": {},
     "output_type": "execute_result"
    }
   ],
   "source": [
    "df.describe()"
   ]
  },
  {
   "cell_type": "code",
   "execution_count": 12,
   "metadata": {},
   "outputs": [
    {
     "name": "stdout",
     "output_type": "stream",
     "text": [
      "Topic\n",
      "Arabic     1\n",
      "IT        17\n",
      "Math       6\n",
      "Name: Topic, dtype: int64\n"
     ]
    }
   ],
   "source": [
    "df =  df.groupby('Topic')['Topic'].count()\n",
    "print(df)"
   ]
  }
 ],
 "metadata": {
  "interpreter": {
   "hash": "cc74fa67fef1d54fcd4e5cf4b8fd546f759868934622cf8d4bccd389689aabff"
  },
  "kernelspec": {
   "display_name": "Python 3.8.5 32-bit",
   "language": "python",
   "name": "python3"
  },
  "language_info": {
   "codemirror_mode": {
    "name": "ipython",
    "version": 3
   },
   "file_extension": ".py",
   "mimetype": "text/x-python",
   "name": "python",
   "nbconvert_exporter": "python",
   "pygments_lexer": "ipython3",
   "version": "3.8.5"
  },
  "orig_nbformat": 4
 },
 "nbformat": 4,
 "nbformat_minor": 2
}

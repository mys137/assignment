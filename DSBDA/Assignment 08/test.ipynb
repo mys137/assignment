{
 "cells": [
  {
   "cell_type": "code",
   "execution_count": 12,
   "metadata": {},
   "outputs": [],
   "source": [
    "import nltk\n",
    "import pandas as pd\n",
    "import numpy as np"
   ]
  },
  {
   "cell_type": "code",
   "execution_count": 13,
   "metadata": {},
   "outputs": [],
   "source": [
    "from nltk.tokenize import sent_tokenize\n",
    "\n",
    "text=\"\"\"Supervised Regression\n",
    "In this case, the problem definition is rather similar to the previous example; the difference \n",
    "relies on the response. In a regression problem, the response y ∈ ℜ, this means the response is \n",
    "real valued. For example, we can develop a model to predict the hourly salary of individuals \n",
    "given the corpus of their CV.\n",
    "Unsupervised Learning\n",
    "Management is often thirsty for new insights. Segmentation models can provide this insight in \n",
    "order for the marketing department to develop products for different segments. A good \n",
    "approach for developing a segmentation model, rather than thinking of algorithms, is to select \n",
    "features that are relevant to the segmentation that is desired.\n",
    "For example, in a telecommunications company, it is interesting to segment clients by their cell \n",
    "phone usage. This would involve disregarding features that have nothing to do with the \n",
    "segmentation objective and including only those that do. In this case, this would be selecting \n",
    "features as the number of SMS used in a month, the number of inbound and outbound minutes, \n",
    "etc.\n",
    "Big Data Analytics -Data Collection:\n",
    "Data collection plays the most important role in the Big Data cycle. The Internet provides \n",
    "almost unlimited sources of data for a variety of topics. The importance of this area depends on \n",
    "the type of business, but traditional industries can acquire a diverse source of external data and \n",
    "combine those with their transactional data.\n",
    "For example, let‘s assume we would like to build a system that recommends restaurants. The \n",
    "first step would be to gather data, in this case, reviews of restaurants from different websites and \n",
    "store them in a database. As we are interested in raw text, and would use that for analytics, it is \n",
    "not that relevant where the data for developing the model would be stored. This may sound \n",
    "contradictory with the big data main technologies, but in order to implement a big data \n",
    "application, we simply need to make it work in real time\"\"\"\n"
   ]
  },
  {
   "cell_type": "code",
   "execution_count": 14,
   "metadata": {},
   "outputs": [
    {
     "name": "stdout",
     "output_type": "stream",
     "text": [
      "['Supervised', 'Regression', 'In', 'this', 'case', ',', 'the', 'problem', 'definition', 'is', 'rather', 'similar', 'to', 'the', 'previous', 'example', ';', 'the', 'difference', 'relies', 'on', 'the', 'response', '.', 'In', 'a', 'regression', 'problem', ',', 'the', 'response', 'y', '∈', 'ℜ', ',', 'this', 'means', 'the', 'response', 'is', 'real', 'valued', '.', 'For', 'example', ',', 'we', 'can', 'develop', 'a', 'model', 'to', 'predict', 'the', 'hourly', 'salary', 'of', 'individuals', 'given', 'the', 'corpus', 'of', 'their', 'CV', '.', 'Unsupervised', 'Learning', 'Management', 'is', 'often', 'thirsty', 'for', 'new', 'insights', '.', 'Segmentation', 'models', 'can', 'provide', 'this', 'insight', 'in', 'order', 'for', 'the', 'marketing', 'department', 'to', 'develop', 'products', 'for', 'different', 'segments', '.', 'A', 'good', 'approach', 'for', 'developing', 'a', 'segmentation', 'model', ',', 'rather', 'than', 'thinking', 'of', 'algorithms', ',', 'is', 'to', 'select', 'features', 'that', 'are', 'relevant', 'to', 'the', 'segmentation', 'that', 'is', 'desired', '.', 'For', 'example', ',', 'in', 'a', 'telecommunications', 'company', ',', 'it', 'is', 'interesting', 'to', 'segment', 'clients', 'by', 'their', 'cell', 'phone', 'usage', '.', 'This', 'would', 'involve', 'disregarding', 'features', 'that', 'have', 'nothing', 'to', 'do', 'with', 'the', 'segmentation', 'objective', 'and', 'including', 'only', 'those', 'that', 'do', '.', 'In', 'this', 'case', ',', 'this', 'would', 'be', 'selecting', 'features', 'as', 'the', 'number', 'of', 'SMS', 'used', 'in', 'a', 'month', ',', 'the', 'number', 'of', 'inbound', 'and', 'outbound', 'minutes', ',', 'etc', '.', 'Big', 'Data', 'Analytics', '-Data', 'Collection', ':', 'Data', 'collection', 'plays', 'the', 'most', 'important', 'role', 'in', 'the', 'Big', 'Data', 'cycle', '.', 'The', 'Internet', 'provides', 'almost', 'unlimited', 'sources', 'of', 'data', 'for', 'a', 'variety', 'of', 'topics', '.', 'The', 'importance', 'of', 'this', 'area', 'depends', 'on', 'the', 'type', 'of', 'business', ',', 'but', 'traditional', 'industries', 'can', 'acquire', 'a', 'diverse', 'source', 'of', 'external', 'data', 'and', 'combine', 'those', 'with', 'their', 'transactional', 'data', '.', 'For', 'example', ',', 'let', '‘', 's', 'assume', 'we', 'would', 'like', 'to', 'build', 'a', 'system', 'that', 'recommends', 'restaurants', '.', 'The', 'first', 'step', 'would', 'be', 'to', 'gather', 'data', ',', 'in', 'this', 'case', ',', 'reviews', 'of', 'restaurants', 'from', 'different', 'websites', 'and', 'store', 'them', 'in', 'a', 'database', '.', 'As', 'we', 'are', 'interested', 'in', 'raw', 'text', ',', 'and', 'would', 'use', 'that', 'for', 'analytics', ',', 'it', 'is', 'not', 'that', 'relevant', 'where', 'the', 'data', 'for', 'developing', 'the', 'model', 'would', 'be', 'stored', '.', 'This', 'may', 'sound', 'contradictory', 'with', 'the', 'big', 'data', 'main', 'technologies', ',', 'but', 'in', 'order', 'to', 'implement', 'a', 'big', 'data', 'application', ',', 'we', 'simply', 'need', 'to', 'make', 'it', 'work', 'in', 'real', 'time']\n"
     ]
    }
   ],
   "source": [
    "from nltk.tokenize import word_tokenize\n",
    "tokenization = word_tokenize(text)\n",
    "\n",
    "print(tokenization)"
   ]
  },
  {
   "cell_type": "code",
   "execution_count": 15,
   "metadata": {},
   "outputs": [
    {
     "name": "stdout",
     "output_type": "stream",
     "text": [
      "['Supervised Regression\\nIn this case, the problem definition is rather similar to the previous example; the difference \\nrelies on the response.', 'In a regression problem, the response y ∈ ℜ, this means the response is \\nreal valued.', 'For example, we can develop a model to predict the hourly salary of individuals \\ngiven the corpus of their CV.', 'Unsupervised Learning\\nManagement is often thirsty for new insights.', 'Segmentation models can provide this insight in \\norder for the marketing department to develop products for different segments.', 'A good \\napproach for developing a segmentation model, rather than thinking of algorithms, is to select \\nfeatures that are relevant to the segmentation that is desired.', 'For example, in a telecommunications company, it is interesting to segment clients by their cell \\nphone usage.', 'This would involve disregarding features that have nothing to do with the \\nsegmentation objective and including only those that do.', 'In this case, this would be selecting \\nfeatures as the number of SMS used in a month, the number of inbound and outbound minutes, \\netc.', 'Big Data Analytics -Data Collection:\\nData collection plays the most important role in the Big Data cycle.', 'The Internet provides \\nalmost unlimited sources of data for a variety of topics.', 'The importance of this area depends on \\nthe type of business, but traditional industries can acquire a diverse source of external data and \\ncombine those with their transactional data.', 'For example, let‘s assume we would like to build a system that recommends restaurants.', 'The \\nfirst step would be to gather data, in this case, reviews of restaurants from different websites and \\nstore them in a database.', 'As we are interested in raw text, and would use that for analytics, it is \\nnot that relevant where the data for developing the model would be stored.', 'This may sound \\ncontradictory with the big data main technologies, but in order to implement a big data \\napplication, we simply need to make it work in real time']\n"
     ]
    }
   ],
   "source": [
    "tokenized_text = sent_tokenize(text)\n",
    "print(tokenized_text)"
   ]
  },
  {
   "cell_type": "code",
   "execution_count": 16,
   "metadata": {},
   "outputs": [
    {
     "name": "stdout",
     "output_type": "stream",
     "text": [
      "['Supervised', 'Regression', 'In', 'this', 'case', ',', 'the', 'problem', 'definition', 'is', 'rather', 'similar', 'to', 'the', 'previous', 'example', ';', 'the', 'difference', 'relies', 'on', 'the', 'response', '.', 'In', 'a', 'regression', 'problem', ',', 'the', 'response', 'y', '∈', 'ℜ', ',', 'this', 'means', 'the', 'response', 'is', 'real', 'valued', '.', 'For', 'example', ',', 'we', 'can', 'develop', 'a', 'model', 'to', 'predict', 'the', 'hourly', 'salary', 'of', 'individuals', 'given', 'the', 'corpus', 'of', 'their', 'CV', '.', 'Unsupervised', 'Learning', 'Management', 'is', 'often', 'thirsty', 'for', 'new', 'insights', '.', 'Segmentation', 'models', 'can', 'provide', 'this', 'insight', 'in', 'order', 'for', 'the', 'marketing', 'department', 'to', 'develop', 'products', 'for', 'different', 'segments', '.', 'A', 'good', 'approach', 'for', 'developing', 'a', 'segmentation', 'model', ',', 'rather', 'than', 'thinking', 'of', 'algorithms', ',', 'is', 'to', 'select', 'features', 'that', 'are', 'relevant', 'to', 'the', 'segmentation', 'that', 'is', 'desired', '.', 'For', 'example', ',', 'in', 'a', 'telecommunications', 'company', ',', 'it', 'is', 'interesting', 'to', 'segment', 'clients', 'by', 'their', 'cell', 'phone', 'usage', '.', 'This', 'would', 'involve', 'disregarding', 'features', 'that', 'have', 'nothing', 'to', 'do', 'with', 'the', 'segmentation', 'objective', 'and', 'including', 'only', 'those', 'that', 'do', '.', 'In', 'this', 'case', ',', 'this', 'would', 'be', 'selecting', 'features', 'as', 'the', 'number', 'of', 'SMS', 'used', 'in', 'a', 'month', ',', 'the', 'number', 'of', 'inbound', 'and', 'outbound', 'minutes', ',', 'etc', '.', 'Big', 'Data', 'Analytics', '-Data', 'Collection', ':', 'Data', 'collection', 'plays', 'the', 'most', 'important', 'role', 'in', 'the', 'Big', 'Data', 'cycle', '.', 'The', 'Internet', 'provides', 'almost', 'unlimited', 'sources', 'of', 'data', 'for', 'a', 'variety', 'of', 'topics', '.', 'The', 'importance', 'of', 'this', 'area', 'depends', 'on', 'the', 'type', 'of', 'business', ',', 'but', 'traditional', 'industries', 'can', 'acquire', 'a', 'diverse', 'source', 'of', 'external', 'data', 'and', 'combine', 'those', 'with', 'their', 'transactional', 'data', '.', 'For', 'example', ',', 'let', '‘', 's', 'assume', 'we', 'would', 'like', 'to', 'build', 'a', 'system', 'that', 'recommends', 'restaurants', '.', 'The', 'first', 'step', 'would', 'be', 'to', 'gather', 'data', ',', 'in', 'this', 'case', ',', 'reviews', 'of', 'restaurants', 'from', 'different', 'websites', 'and', 'store', 'them', 'in', 'a', 'database', '.', 'As', 'we', 'are', 'interested', 'in', 'raw', 'text', ',', 'and', 'would', 'use', 'that', 'for', 'analytics', ',', 'it', 'is', 'not', 'that', 'relevant', 'where', 'the', 'data', 'for', 'developing', 'the', 'model', 'would', 'be', 'stored', '.', 'This', 'may', 'sound', 'contradictory', 'with', 'the', 'big', 'data', 'main', 'technologies', ',', 'but', 'in', 'order', 'to', 'implement', 'a', 'big', 'data', 'application', ',', 'we', 'simply', 'need', 'to', 'make', 'it', 'work', 'in', 'real', 'time']\n"
     ]
    }
   ],
   "source": [
    "from nltk.tokenize import word_tokenize\n",
    "tokenization = word_tokenize(text)\n",
    "\n",
    "print(tokenization)"
   ]
  },
  {
   "cell_type": "code",
   "execution_count": 17,
   "metadata": {},
   "outputs": [
    {
     "name": "stdout",
     "output_type": "stream",
     "text": [
      "<FreqDist with 185 samples and 363 outcomes>\n"
     ]
    }
   ],
   "source": [
    "from nltk.probability import FreqDist\n",
    "fdist = FreqDist(tokenization)\n",
    "print(fdist)"
   ]
  },
  {
   "cell_type": "code",
   "execution_count": 18,
   "metadata": {},
   "outputs": [
    {
     "data": {
      "text/plain": [
       "[(',', 19), ('the', 19), ('.', 15), ('to', 11)]"
      ]
     },
     "execution_count": 18,
     "metadata": {},
     "output_type": "execute_result"
    }
   ],
   "source": [
    "fdist.most_common(4)"
   ]
  },
  {
   "cell_type": "code",
   "execution_count": 20,
   "metadata": {},
   "outputs": [
    {
     "data": {
      "image/png": "[encoded data removed]",
      "text/plain": [
       "<Figure size 432x288 with 1 Axes>"
      ]
     },
     "metadata": {
      "needs_background": "light"
     },
     "output_type": "display_data"
    }
   ],
   "source": [
    "import matplotlib.pyplot as plt\n",
    "fdist.plot(30,cumulative=False)\n",
    "plt.show()"
   ]
  },
  {
   "cell_type": "code",
   "execution_count": 21,
   "metadata": {},
   "outputs": [
    {
     "name": "stdout",
     "output_type": "stream",
     "text": [
      "{'any', 'over', 'as', 'do', 'than', 'has', \"isn't\", 'here', 'when', 'don', 'such', 'he', 're', 'been', 'them', 'weren', 'after', 'me', 'd', 'isn', \"you'd\", 'nor', 'yours', 'above', 'his', 'most', 'her', \"mightn't\", 'until', 'didn', \"haven't\", 'ma', 'ourselves', 'were', \"mustn't\", 'in', 'the', 'm', \"it's\", 'where', 'there', 'under', 'once', 'own', 'other', \"aren't\", 'was', 'couldn', 'is', 'can', 'themselves', 'your', 'those', \"you're\", 'which', 'did', 'why', 'an', 'again', 'wouldn', 'they', \"you've\", 'during', 'against', 'yourself', 'at', 'had', 'aren', 'out', 'have', 'but', 'on', 'y', 'of', 'some', 'hasn', 'into', 'only', 'this', \"she's\", 'we', \"won't\", 'itself', 'its', 'not', 'between', 'hadn', 'their', 'she', 'doing', \"weren't\", 'same', 'who', 'shan', \"that'll\", 'to', 'how', 'both', 'further', 'being', 's', 'while', 'are', 't', 'more', \"needn't\", 'each', 'below', 'for', 'hers', 'ain', 'should', 'won', \"you'll\", \"couldn't\", 'just', 'these', 'our', 'up', 'now', 'o', 've', 'theirs', 'will', 'ours', 'too', 'myself', 'or', 'herself', \"wasn't\", 'off', 'few', 'mightn', 'am', 'all', \"hadn't\", 'doesn', 'about', 'no', 'then', 'wasn', 'through', 'yourselves', 'my', 'him', 'haven', 'you', 'very', \"didn't\", \"should've\", 'so', 'and', 'if', 'it', \"hasn't\", 'by', 'shouldn', 'a', 'down', 'with', 'from', 'i', \"doesn't\", 'having', \"shan't\", \"shouldn't\", \"wouldn't\", 'because', 'mustn', 'before', \"don't\", 'what', 'be', 'whom', 'does', 'that', 'needn', 'll', 'himself'}\n"
     ]
    }
   ],
   "source": [
    "from nltk.corpus import stopwords\n",
    "stop_word = set(stopwords.words(\"english\"))\n",
    "print(stop_word)"
   ]
  },
  {
   "cell_type": "code",
   "execution_count": 23,
   "metadata": {},
   "outputs": [
    {
     "name": "stdout",
     "output_type": "stream",
     "text": [
      "tokenization sentence: ['Supervised', 'Regression', 'In', 'this', 'case', ',', 'the', 'problem', 'definition', 'is', 'rather', 'similar', 'to', 'the', 'previous', 'example', ';', 'the', 'difference', 'relies', 'on', 'the', 'response', '.', 'In', 'a', 'regression', 'problem', ',', 'the', 'response', 'y', '∈', 'ℜ', ',', 'this', 'means', 'the', 'response', 'is', 'real', 'valued', '.', 'For', 'example', ',', 'we', 'can', 'develop', 'a', 'model', 'to', 'predict', 'the', 'hourly', 'salary', 'of', 'individuals', 'given', 'the', 'corpus', 'of', 'their', 'CV', '.', 'Unsupervised', 'Learning', 'Management', 'is', 'often', 'thirsty', 'for', 'new', 'insights', '.', 'Segmentation', 'models', 'can', 'provide', 'this', 'insight', 'in', 'order', 'for', 'the', 'marketing', 'department', 'to', 'develop', 'products', 'for', 'different', 'segments', '.', 'A', 'good', 'approach', 'for', 'developing', 'a', 'segmentation', 'model', ',', 'rather', 'than', 'thinking', 'of', 'algorithms', ',', 'is', 'to', 'select', 'features', 'that', 'are', 'relevant', 'to', 'the', 'segmentation', 'that', 'is', 'desired', '.', 'For', 'example', ',', 'in', 'a', 'telecommunications', 'company', ',', 'it', 'is', 'interesting', 'to', 'segment', 'clients', 'by', 'their', 'cell', 'phone', 'usage', '.', 'This', 'would', 'involve', 'disregarding', 'features', 'that', 'have', 'nothing', 'to', 'do', 'with', 'the', 'segmentation', 'objective', 'and', 'including', 'only', 'those', 'that', 'do', '.', 'In', 'this', 'case', ',', 'this', 'would', 'be', 'selecting', 'features', 'as', 'the', 'number', 'of', 'SMS', 'used', 'in', 'a', 'month', ',', 'the', 'number', 'of', 'inbound', 'and', 'outbound', 'minutes', ',', 'etc', '.', 'Big', 'Data', 'Analytics', '-Data', 'Collection', ':', 'Data', 'collection', 'plays', 'the', 'most', 'important', 'role', 'in', 'the', 'Big', 'Data', 'cycle', '.', 'The', 'Internet', 'provides', 'almost', 'unlimited', 'sources', 'of', 'data', 'for', 'a', 'variety', 'of', 'topics', '.', 'The', 'importance', 'of', 'this', 'area', 'depends', 'on', 'the', 'type', 'of', 'business', ',', 'but', 'traditional', 'industries', 'can', 'acquire', 'a', 'diverse', 'source', 'of', 'external', 'data', 'and', 'combine', 'those', 'with', 'their', 'transactional', 'data', '.', 'For', 'example', ',', 'let', '‘', 's', 'assume', 'we', 'would', 'like', 'to', 'build', 'a', 'system', 'that', 'recommends', 'restaurants', '.', 'The', 'first', 'step', 'would', 'be', 'to', 'gather', 'data', ',', 'in', 'this', 'case', ',', 'reviews', 'of', 'restaurants', 'from', 'different', 'websites', 'and', 'store', 'them', 'in', 'a', 'database', '.', 'As', 'we', 'are', 'interested', 'in', 'raw', 'text', ',', 'and', 'would', 'use', 'that', 'for', 'analytics', ',', 'it', 'is', 'not', 'that', 'relevant', 'where', 'the', 'data', 'for', 'developing', 'the', 'model', 'would', 'be', 'stored', '.', 'This', 'may', 'sound', 'contradictory', 'with', 'the', 'big', 'data', 'main', 'technologies', ',', 'but', 'in', 'order', 'to', 'implement', 'a', 'big', 'data', 'application', ',', 'we', 'simply', 'need', 'to', 'make', 'it', 'work', 'in', 'real', 'time']\n",
      "===============================================================================\n",
      "filtered :  ['Supervised', 'Regression', 'In', 'case', ',', 'problem', 'definition', 'rather', 'similar', 'previous', 'example', ';', 'difference', 'relies', 'response', '.', 'In', 'regression', 'problem', ',', 'response', '∈', 'ℜ', ',', 'means', 'response', 'real', 'valued', '.', 'For', 'example', ',', 'develop', 'model', 'predict', 'hourly', 'salary', 'individuals', 'given', 'corpus', 'CV', '.', 'Unsupervised', 'Learning', 'Management', 'often', 'thirsty', 'new', 'insights', '.', 'Segmentation', 'models', 'provide', 'insight', 'order', 'marketing', 'department', 'develop', 'products', 'different', 'segments', '.', 'A', 'good', 'approach', 'developing', 'segmentation', 'model', ',', 'rather', 'thinking', 'algorithms', ',', 'select', 'features', 'relevant', 'segmentation', 'desired', '.', 'For', 'example', ',', 'telecommunications', 'company', ',', 'interesting', 'segment', 'clients', 'cell', 'phone', 'usage', '.', 'This', 'would', 'involve', 'disregarding', 'features', 'nothing', 'segmentation', 'objective', 'including', '.', 'In', 'case', ',', 'would', 'selecting', 'features', 'number', 'SMS', 'used', 'month', ',', 'number', 'inbound', 'outbound', 'minutes', ',', 'etc', '.', 'Big', 'Data', 'Analytics', '-Data', 'Collection', ':', 'Data', 'collection', 'plays', 'important', 'role', 'Big', 'Data', 'cycle', '.', 'The', 'Internet', 'provides', 'almost', 'unlimited', 'sources', 'data', 'variety', 'topics', '.', 'The', 'importance', 'area', 'depends', 'type', 'business', ',', 'traditional', 'industries', 'acquire', 'diverse', 'source', 'external', 'data', 'combine', 'transactional', 'data', '.', 'For', 'example', ',', 'let', '‘', 'assume', 'would', 'like', 'build', 'system', 'recommends', 'restaurants', '.', 'The', 'first', 'step', 'would', 'gather', 'data', ',', 'case', ',', 'reviews', 'restaurants', 'different', 'websites', 'store', 'database', '.', 'As', 'interested', 'raw', 'text', ',', 'would', 'use', 'analytics', ',', 'relevant', 'data', 'developing', 'model', 'would', 'stored', '.', 'This', 'may', 'sound', 'contradictory', 'big', 'data', 'main', 'technologies', ',', 'order', 'implement', 'big', 'data', 'application', ',', 'simply', 'need', 'make', 'work', 'real', 'time']\n"
     ]
    }
   ],
   "source": [
    "filtered_word = []\n",
    "\n",
    "for w in tokenization:\n",
    "    if( w not in stop_word):\n",
    "        filtered_word.append(w)\n",
    "\n",
    "print(\"tokenization sentence:\", tokenization)\n",
    "print(\"===============================================================================\")\n",
    "print(\"filtered : \",filtered_word)\n"
   ]
  },
  {
   "cell_type": "code",
   "execution_count": 24,
   "metadata": {},
   "outputs": [
    {
     "name": "stdout",
     "output_type": "stream",
     "text": [
      "nfueruier :  ['supervis', 'regress', 'in', 'case', ',', 'problem', 'definit', 'rather', 'similar', 'previou', 'exampl', ';', 'differ', 'reli', 'respons', '.', 'in', 'regress', 'problem', ',', 'respons', '∈', 'ℜ', ',', 'mean', 'respons', 'real', 'valu', '.', 'for', 'exampl', ',', 'develop', 'model', 'predict', 'hourli', 'salari', 'individu', 'given', 'corpu', 'cv', '.', 'unsupervis', 'learn', 'manag', 'often', 'thirsti', 'new', 'insight', '.', 'segment', 'model', 'provid', 'insight', 'order', 'market', 'depart', 'develop', 'product', 'differ', 'segment', '.', 'a', 'good', 'approach', 'develop', 'segment', 'model', ',', 'rather', 'think', 'algorithm', ',', 'select', 'featur', 'relev', 'segment', 'desir', '.', 'for', 'exampl', ',', 'telecommun', 'compani', ',', 'interest', 'segment', 'client', 'cell', 'phone', 'usag', '.', 'thi', 'would', 'involv', 'disregard', 'featur', 'noth', 'segment', 'object', 'includ', '.', 'in', 'case', ',', 'would', 'select', 'featur', 'number', 'sm', 'use', 'month', ',', 'number', 'inbound', 'outbound', 'minut', ',', 'etc', '.', 'big', 'data', 'analyt', '-data', 'collect', ':', 'data', 'collect', 'play', 'import', 'role', 'big', 'data', 'cycl', '.', 'the', 'internet', 'provid', 'almost', 'unlimit', 'sourc', 'data', 'varieti', 'topic', '.', 'the', 'import', 'area', 'depend', 'type', 'busi', ',', 'tradit', 'industri', 'acquir', 'divers', 'sourc', 'extern', 'data', 'combin', 'transact', 'data', '.', 'for', 'exampl', ',', 'let', '‘', 'assum', 'would', 'like', 'build', 'system', 'recommend', 'restaur', '.', 'the', 'first', 'step', 'would', 'gather', 'data', ',', 'case', ',', 'review', 'restaur', 'differ', 'websit', 'store', 'databas', '.', 'as', 'interest', 'raw', 'text', ',', 'would', 'use', 'analyt', ',', 'relev', 'data', 'develop', 'model', 'would', 'store', '.', 'thi', 'may', 'sound', 'contradictori', 'big', 'data', 'main', 'technolog', ',', 'order', 'implement', 'big', 'data', 'applic', ',', 'simpli', 'need', 'make', 'work', 'real', 'time']\n"
     ]
    }
   ],
   "source": [
    "from nltk.stem import PorterStemmer\n",
    "from nltk.tokenize import sent_tokenize, word_tokenize\n",
    "\n",
    "ps = PorterStemmer()\n",
    "\n",
    "stemed_word = []\n",
    "\n",
    "for w in filtered_word:\n",
    "    stemed_word.append(ps.stem(w))\n",
    "\n",
    "print(\"nfueruier : \",stemed_word)"
   ]
  },
  {
   "cell_type": "code",
   "execution_count": null,
   "metadata": {},
   "outputs": [],
   "source": []
  }
 ],
 "metadata": {
  "interpreter": {
   "hash": "cc74fa67fef1d54fcd4e5cf4b8fd546f759868934622cf8d4bccd389689aabff"
  },
  "kernelspec": {
   "display_name": "Python 3.8.5 32-bit",
   "language": "python",
   "name": "python3"
  },
  "language_info": {
   "codemirror_mode": {
    "name": "ipython",
    "version": 3
   },
   "file_extension": ".py",
   "mimetype": "text/x-python",
   "name": "python",
   "nbconvert_exporter": "python",
   "pygments_lexer": "ipython3",
   "version": "3.8.5"
  },
  "orig_nbformat": 4
 },
 "nbformat": 4,
 "nbformat_minor": 2
}

{
 "cells": [
  {
   "cell_type": "code",
   "execution_count": 1,
   "metadata": {},
   "outputs": [],
   "source": [
    "import pandas as pd\n",
    "import numpy as np\n",
    "import seaborn as sea\n",
    "import matplotlib.pyplot as mtp"
   ]
  },
  {
   "cell_type": "code",
   "execution_count": 2,
   "metadata": {},
   "outputs": [
    {
     "data": {
      "text/html": [
       "<div>\n",
       "<style scoped>\n",
       "    .dataframe tbody tr th:only-of-type {\n",
       "        vertical-align: middle;\n",
       "    }\n",
       "\n",
       "    .dataframe tbody tr th {\n",
       "        vertical-align: top;\n",
       "    }\n",
       "\n",
       "    .dataframe thead th {\n",
       "        text-align: right;\n",
       "    }\n",
       "</style>\n",
       "<table border=\"1\" class=\"dataframe\">\n",
       "  <thead>\n",
       "    <tr style=\"text-align: right;\">\n",
       "      <th></th>\n",
       "      <th>gender</th>\n",
       "      <th>NationalITy</th>\n",
       "      <th>PlaceofBirth</th>\n",
       "      <th>StageID</th>\n",
       "      <th>GradeID</th>\n",
       "      <th>SectionID</th>\n",
       "      <th>Topic</th>\n",
       "      <th>Semester</th>\n",
       "      <th>Relation</th>\n",
       "      <th>cns</th>\n",
       "      <th>dsa</th>\n",
       "      <th>oops</th>\n",
       "      <th>os</th>\n",
       "    </tr>\n",
       "  </thead>\n",
       "  <tbody>\n",
       "    <tr>\n",
       "      <th>0</th>\n",
       "      <td>NaN</td>\n",
       "      <td>KW</td>\n",
       "      <td>KuwaIT</td>\n",
       "      <td>lowerlevel</td>\n",
       "      <td>G-04</td>\n",
       "      <td>A</td>\n",
       "      <td>IT</td>\n",
       "      <td>F</td>\n",
       "      <td>Father</td>\n",
       "      <td>NaN</td>\n",
       "      <td>16.0</td>\n",
       "      <td>2</td>\n",
       "      <td>20</td>\n",
       "    </tr>\n",
       "    <tr>\n",
       "      <th>1</th>\n",
       "      <td>M</td>\n",
       "      <td>KW</td>\n",
       "      <td>NaN</td>\n",
       "      <td>lowerlevel</td>\n",
       "      <td>G-04</td>\n",
       "      <td>A</td>\n",
       "      <td>NaN</td>\n",
       "      <td>F</td>\n",
       "      <td>Father</td>\n",
       "      <td>20.0</td>\n",
       "      <td>20.0</td>\n",
       "      <td>3</td>\n",
       "      <td>25</td>\n",
       "    </tr>\n",
       "    <tr>\n",
       "      <th>2</th>\n",
       "      <td>M</td>\n",
       "      <td>KW</td>\n",
       "      <td>KuwaIT</td>\n",
       "      <td>NaN</td>\n",
       "      <td>G-04</td>\n",
       "      <td>A</td>\n",
       "      <td>IT</td>\n",
       "      <td>F</td>\n",
       "      <td>Father</td>\n",
       "      <td>10.0</td>\n",
       "      <td>7.0</td>\n",
       "      <td>0</td>\n",
       "      <td>30</td>\n",
       "    </tr>\n",
       "    <tr>\n",
       "      <th>3</th>\n",
       "      <td>M</td>\n",
       "      <td>KW</td>\n",
       "      <td>KuwaIT</td>\n",
       "      <td>lowerlevel</td>\n",
       "      <td>G-04</td>\n",
       "      <td>A</td>\n",
       "      <td>IT</td>\n",
       "      <td>F</td>\n",
       "      <td>Father</td>\n",
       "      <td>NaN</td>\n",
       "      <td>25.0</td>\n",
       "      <td>5</td>\n",
       "      <td>35</td>\n",
       "    </tr>\n",
       "    <tr>\n",
       "      <th>4</th>\n",
       "      <td>NaN</td>\n",
       "      <td>KW</td>\n",
       "      <td>KuwaIT</td>\n",
       "      <td>lowerlevel</td>\n",
       "      <td>G-04</td>\n",
       "      <td>A</td>\n",
       "      <td>IT</td>\n",
       "      <td>F</td>\n",
       "      <td>Father</td>\n",
       "      <td>40.0</td>\n",
       "      <td>50.0</td>\n",
       "      <td>12</td>\n",
       "      <td>50</td>\n",
       "    </tr>\n",
       "    <tr>\n",
       "      <th>5</th>\n",
       "      <td>F</td>\n",
       "      <td>KW</td>\n",
       "      <td>KuwaIT</td>\n",
       "      <td>lowerlevel</td>\n",
       "      <td>G-04</td>\n",
       "      <td>A</td>\n",
       "      <td>IT</td>\n",
       "      <td>F</td>\n",
       "      <td>Father</td>\n",
       "      <td>42.0</td>\n",
       "      <td>30.0</td>\n",
       "      <td>13</td>\n",
       "      <td>70</td>\n",
       "    </tr>\n",
       "    <tr>\n",
       "      <th>6</th>\n",
       "      <td>M</td>\n",
       "      <td>KW</td>\n",
       "      <td>KuwaIT</td>\n",
       "      <td>MiddleSchool</td>\n",
       "      <td>G-07</td>\n",
       "      <td>A</td>\n",
       "      <td>NaN</td>\n",
       "      <td>F</td>\n",
       "      <td>Father</td>\n",
       "      <td>35.0</td>\n",
       "      <td>12.0</td>\n",
       "      <td>0</td>\n",
       "      <td>17</td>\n",
       "    </tr>\n",
       "    <tr>\n",
       "      <th>7</th>\n",
       "      <td>M</td>\n",
       "      <td>KW</td>\n",
       "      <td>NaN</td>\n",
       "      <td>MiddleSchool</td>\n",
       "      <td>G-07</td>\n",
       "      <td>A</td>\n",
       "      <td>Math</td>\n",
       "      <td>F</td>\n",
       "      <td>NaN</td>\n",
       "      <td>NaN</td>\n",
       "      <td>NaN</td>\n",
       "      <td>15</td>\n",
       "      <td>22</td>\n",
       "    </tr>\n",
       "    <tr>\n",
       "      <th>8</th>\n",
       "      <td>F</td>\n",
       "      <td>KW</td>\n",
       "      <td>KuwaIT</td>\n",
       "      <td>MiddleSchool</td>\n",
       "      <td>G-07</td>\n",
       "      <td>A</td>\n",
       "      <td>Math</td>\n",
       "      <td>F</td>\n",
       "      <td>Father</td>\n",
       "      <td>12.0</td>\n",
       "      <td>21.0</td>\n",
       "      <td>16</td>\n",
       "      <td>50</td>\n",
       "    </tr>\n",
       "    <tr>\n",
       "      <th>9</th>\n",
       "      <td>F</td>\n",
       "      <td>KW</td>\n",
       "      <td>KuwaIT</td>\n",
       "      <td>MiddleSchool</td>\n",
       "      <td>G-07</td>\n",
       "      <td>B</td>\n",
       "      <td>IT</td>\n",
       "      <td>F</td>\n",
       "      <td>Father</td>\n",
       "      <td>NaN</td>\n",
       "      <td>80.0</td>\n",
       "      <td>25</td>\n",
       "      <td>70</td>\n",
       "    </tr>\n",
       "  </tbody>\n",
       "</table>\n",
       "</div>"
      ],
      "text/plain": [
       "  gender NationalITy PlaceofBirth       StageID GradeID SectionID Topic  \\\n",
       "0    NaN          KW       KuwaIT    lowerlevel    G-04         A    IT   \n",
       "1      M          KW          NaN    lowerlevel    G-04         A   NaN   \n",
       "2      M          KW       KuwaIT           NaN    G-04         A    IT   \n",
       "3      M          KW       KuwaIT    lowerlevel    G-04         A    IT   \n",
       "4    NaN          KW       KuwaIT    lowerlevel    G-04         A    IT   \n",
       "5      F          KW       KuwaIT    lowerlevel    G-04         A    IT   \n",
       "6      M          KW       KuwaIT  MiddleSchool    G-07         A   NaN   \n",
       "7      M          KW          NaN  MiddleSchool    G-07         A  Math   \n",
       "8      F          KW       KuwaIT  MiddleSchool    G-07         A  Math   \n",
       "9      F          KW       KuwaIT  MiddleSchool    G-07         B    IT   \n",
       "\n",
       "  Semester Relation   cns   dsa  oops  os  \n",
       "0        F   Father   NaN  16.0     2  20  \n",
       "1        F   Father  20.0  20.0     3  25  \n",
       "2        F   Father  10.0   7.0     0  30  \n",
       "3        F   Father   NaN  25.0     5  35  \n",
       "4        F   Father  40.0  50.0    12  50  \n",
       "5        F   Father  42.0  30.0    13  70  \n",
       "6        F   Father  35.0  12.0     0  17  \n",
       "7        F      NaN   NaN   NaN    15  22  \n",
       "8        F   Father  12.0  21.0    16  50  \n",
       "9        F   Father   NaN  80.0    25  70  "
      ]
     },
     "execution_count": 2,
     "metadata": {},
     "output_type": "execute_result"
    }
   ],
   "source": [
    "url = 'eduData.csv'\n",
    "df = pd.read_csv(url)\n",
    "df.head(10)"
   ]
  },
  {
   "cell_type": "code",
   "execution_count": 5,
   "metadata": {},
   "outputs": [
    {
     "name": "stdout",
     "output_type": "stream",
     "text": [
      "gender          6\n",
      "NationalITy     1\n",
      "PlaceofBirth    5\n",
      "StageID         2\n",
      "GradeID         1\n",
      "SectionID       0\n",
      "Topic           4\n",
      "Semester        0\n",
      "Relation        2\n",
      "cns             7\n",
      "dsa             1\n",
      "oops            0\n",
      "os              0\n",
      "dtype: int64\n"
     ]
    }
   ],
   "source": [
    "print(df.isnull().sum())"
   ]
  },
  {
   "cell_type": "code",
   "execution_count": 7,
   "metadata": {},
   "outputs": [
    {
     "name": "stdout",
     "output_type": "stream",
     "text": [
      "gender          0\n",
      "NationalITy     0\n",
      "PlaceofBirth    0\n",
      "StageID         0\n",
      "GradeID         0\n",
      "SectionID       0\n",
      "Topic           0\n",
      "Semester        0\n",
      "Relation        0\n",
      "cns             0\n",
      "dsa             0\n",
      "oops            0\n",
      "os              0\n",
      "dtype: int64\n"
     ]
    }
   ],
   "source": [
    "# drop the column with null value\n",
    "t=df.dropna()\n",
    "print(t.isnull().sum())"
   ]
  },
  {
   "cell_type": "code",
   "execution_count": 9,
   "metadata": {},
   "outputs": [
    {
     "name": "stdout",
     "output_type": "stream",
     "text": [
      "0\n"
     ]
    }
   ],
   "source": [
    "df1 = pd.read_csv(url)\n",
    "df1['cns'] = df1['cns'].replace(np.NAN,df['cns'].mean())\n",
    "print(df1['cns'].isnull().sum())"
   ]
  },
  {
   "cell_type": "code",
   "execution_count": 10,
   "metadata": {},
   "outputs": [
    {
     "name": "stdout",
     "output_type": "stream",
     "text": [
      "0      NaN\n",
      "1     20.0\n",
      "2     10.0\n",
      "3     25.0\n",
      "4     40.0\n",
      "5     42.0\n",
      "6     35.0\n",
      "7     23.5\n",
      "8     12.0\n",
      "9     31.0\n",
      "10    50.0\n",
      "11    19.0\n",
      "12     5.0\n",
      "13    20.0\n",
      "14    25.0\n",
      "15    30.0\n",
      "16    36.0\n",
      "17    52.5\n",
      "18    69.0\n",
      "19    70.0\n",
      "20    40.0\n",
      "21    10.0\n",
      "22    15.0\n",
      "23     2.0\n",
      "24     0.0\n",
      "25     8.0\n",
      "26    19.0\n",
      "27    25.0\n",
      "Name: cns, dtype: float64\n"
     ]
    }
   ],
   "source": [
    "df2 = pd.read_csv(url)\n",
    "df2['cns'] = df2['cns'].interpolate(method='linear')\n",
    "print(df2['cns'])"
   ]
  },
  {
   "cell_type": "code",
   "execution_count": 11,
   "metadata": {},
   "outputs": [
    {
     "name": "stdout",
     "output_type": "stream",
     "text": [
      "0     unknown\n",
      "1           M\n",
      "2           M\n",
      "3           M\n",
      "4     unknown\n",
      "5           F\n",
      "6           M\n",
      "7           M\n",
      "8           F\n",
      "9           F\n",
      "10          M\n",
      "11          M\n",
      "12          M\n",
      "13          M\n",
      "14          F\n",
      "15          F\n",
      "16    unknown\n",
      "17          M\n",
      "18          F\n",
      "19    unknown\n",
      "20          F\n",
      "21          F\n",
      "22          M\n",
      "23    unknown\n",
      "24          M\n",
      "25          M\n",
      "26    unknown\n",
      "27          M\n",
      "Name: gender, dtype: object\n"
     ]
    }
   ],
   "source": [
    "df2['gender'] = df2['gender'].fillna('unknown')\n",
    "print(df2['gender'])"
   ]
  },
  {
   "cell_type": "code",
   "execution_count": 22,
   "metadata": {},
   "outputs": [
    {
     "name": "stdout",
     "output_type": "stream",
     "text": [
      "0     100\n",
      "1       M\n",
      "2       M\n",
      "3       M\n",
      "4     100\n",
      "5       F\n",
      "6       M\n",
      "7       M\n",
      "8       F\n",
      "9       F\n",
      "10      M\n",
      "11      M\n",
      "12      M\n",
      "13      M\n",
      "14      F\n",
      "15      F\n",
      "16    100\n",
      "17      M\n",
      "18      F\n",
      "19    100\n",
      "20      F\n",
      "21      F\n",
      "22      M\n",
      "23    100\n",
      "24      M\n",
      "25      M\n",
      "26    100\n",
      "27      M\n",
      "Name: gender, dtype: object\n"
     ]
    }
   ],
   "source": [
    "import statistics\n",
    "df3 = pd.read_csv(url)\n",
    "\n",
    "df3[\"gender\"] = df3[\"gender\"].fillna(100)\n",
    "cnt=0\n",
    "\n",
    "for row in df3[\"gender\"]:\n",
    "    try:\n",
    "        int(row)\n",
    "        df.loc[cnt,\"gender\"] = np.nan\n",
    "    except ValueError:\n",
    "        pass\n",
    "    cnt=cnt+1\n",
    "\n",
    "print(df3[\"gender\"])"
   ]
  },
  {
   "cell_type": "code",
   "execution_count": 23,
   "metadata": {},
   "outputs": [
    {
     "data": {
      "text/plain": [
       "cns     0.946321\n",
       "dsa     1.241056\n",
       "oops    0.440346\n",
       "os      0.056839\n",
       "dtype: float64"
      ]
     },
     "execution_count": 23,
     "metadata": {},
     "output_type": "execute_result"
    }
   ],
   "source": [
    "df.skew(numeric_only=True)"
   ]
  },
  {
   "cell_type": "code",
   "execution_count": 30,
   "metadata": {},
   "outputs": [
    {
     "data": {
      "text/plain": [
       "array([[<AxesSubplot:title={'center':'cns'}>,\n",
       "        <AxesSubplot:title={'center':'dsa'}>],\n",
       "       [<AxesSubplot:title={'center':'oops'}>,\n",
       "        <AxesSubplot:title={'center':'os'}>]], dtype=object)"
      ]
     },
     "execution_count": 30,
     "metadata": {},
     "output_type": "execute_result"
    },
    {
     "data": {
      "image/png": "[encoded data removed]",
      "text/plain": [
       "<Figure size 720x432 with 4 Axes>"
      ]
     },
     "metadata": {
      "needs_background": "light"
     },
     "output_type": "display_data"
    }
   ],
   "source": [
    "df.hist(grid=False,figsize=(10,6),bins=30)"
   ]
  },
  {
   "cell_type": "code",
   "execution_count": null,
   "metadata": {},
   "outputs": [],
   "source": [
    "df3.insert(len(df3.columns),'dsa_sqrt',np.sqrt(df3.dsa))"
   ]
  },
  {
   "cell_type": "code",
   "execution_count": 37,
   "metadata": {},
   "outputs": [
    {
     "data": {
      "text/plain": [
       "cns         0.946321\n",
       "dsa         1.241056\n",
       "oops        0.440346\n",
       "os          0.056839\n",
       "dsa_sqrt    0.291450\n",
       "dtype: float64"
      ]
     },
     "execution_count": 37,
     "metadata": {},
     "output_type": "execute_result"
    }
   ],
   "source": [
    "df3.skew(numeric_only=True)"
   ]
  },
  {
   "cell_type": "code",
   "execution_count": 43,
   "metadata": {},
   "outputs": [
    {
     "data": {
      "text/plain": [
       "<AxesSubplot:xlabel='os'>"
      ]
     },
     "execution_count": 43,
     "metadata": {},
     "output_type": "execute_result"
    },
    {
     "data": {
      "image/png": "[encoded data removed]",
      "text/plain": [
       "<Figure size 432x288 with 1 Axes>"
      ]
     },
     "metadata": {
      "needs_background": "light"
     },
     "output_type": "display_data"
    }
   ],
   "source": [
    "sea.boxplot(x=df3['os'])"
   ]
  },
  {
   "cell_type": "code",
   "execution_count": 46,
   "metadata": {},
   "outputs": [
    {
     "name": "stdout",
     "output_type": "stream",
     "text": [
      "(array([ 9, 10, 14], dtype=int32),)\n"
     ]
    },
    {
     "data": {
      "text/plain": [
       "(28, 14)"
      ]
     },
     "execution_count": 46,
     "metadata": {},
     "output_type": "execute_result"
    }
   ],
   "source": [
    "print(np.where(df3['dsa']>65))\n",
    "outliner = np.where(df3['dsa']>65)\n",
    "df3.head(10)\n",
    "df3.shape"
   ]
  },
  {
   "cell_type": "code",
   "execution_count": 49,
   "metadata": {},
   "outputs": [
    {
     "name": "stdout",
     "output_type": "stream",
     "text": [
      "(28, 14)\n",
      "(25, 14)\n"
     ]
    }
   ],
   "source": [
    "new_df = df3.drop(df3.index[outliner])\n",
    "\n",
    "print(df3.shape)\n",
    "print(new_df.shape)"
   ]
  }
 ],
 "metadata": {
  "interpreter": {
   "hash": "cc74fa67fef1d54fcd4e5cf4b8fd546f759868934622cf8d4bccd389689aabff"
  },
  "kernelspec": {
   "display_name": "Python 3.8.5 32-bit",
   "language": "python",
   "name": "python3"
  },
  "language_info": {
   "codemirror_mode": {
    "name": "ipython",
    "version": 3
   },
   "file_extension": ".py",
   "mimetype": "text/x-python",
   "name": "python",
   "nbconvert_exporter": "python",
   "pygments_lexer": "ipython3",
   "version": "3.8.5"
  },
  "orig_nbformat": 4
 },
 "nbformat": 4,
 "nbformat_minor": 2
}

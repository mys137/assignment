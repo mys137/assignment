{
 "cells": [
  {
   "cell_type": "code",
   "execution_count": 75,
   "id": "abdb7f7d",
   "metadata": {},
   "outputs": [],
   "source": [
    "\n",
    "# Create an “Academic performance” dataset of students and perform the following operations using \n",
    "# Python.\n",
    "# 1. Scan all variables for missing values and inconsistencies. If there are missing values and/or \n",
    "# inconsistencies, use any of the suitable techniques to deal with them. \n",
    "# 2. Scan all numeric variables for outliers. If there are outliers, use any of the suitable \n",
    "# techniques to deal with them. \n",
    "# 3. Apply data transformations on at least one of the variables. The purpose of this \n",
    "# transformation should be one of the following reasons: to change the scale for better \n",
    "# understanding of the variable, to convert a non-linear relation into a linear one, or to \n",
    "# decrease the skewness and convert the distribution into a normal distribution. \n",
    "# Reason and document your approach properly."
   ]
  },
  {
   "cell_type": "code",
   "execution_count": 1,
   "id": "304e14f3",
   "metadata": {},
   "outputs": [],
   "source": [
    "import pandas as pd\n",
    "import numpy as np\n",
    "import matplotlib.pyplot as plt\n",
    "import seaborn as sns"
   ]
  },
  {
   "cell_type": "code",
   "execution_count": 2,
   "id": "40d8c8b2",
   "metadata": {},
   "outputs": [
    {
     "name": "stdout",
     "output_type": "stream",
     "text": [
      "  gender NationalITy PlaceofBirth       StageID GradeID SectionID Topic  \\\n",
      "0    NaN          KW       KuwaIT    lowerlevel    G-04         A    IT   \n",
      "1      M          KW          NaN    lowerlevel    G-04         A   NaN   \n",
      "2      M          KW       KuwaIT           NaN    G-04         A    IT   \n",
      "3      M          KW       KuwaIT    lowerlevel    G-04         A    IT   \n",
      "4    NaN          KW       KuwaIT    lowerlevel    G-04         A    IT   \n",
      "5      F          KW       KuwaIT    lowerlevel    G-04         A    IT   \n",
      "6      M          KW       KuwaIT  MiddleSchool    G-07         A   NaN   \n",
      "7      M          KW          NaN  MiddleSchool    G-07         A  Math   \n",
      "8      F          KW       KuwaIT  MiddleSchool    G-07         A  Math   \n",
      "9      F          KW       KuwaIT  MiddleSchool    G-07         B    IT   \n",
      "\n",
      "  Semester Relation   cns   dsa  oops  os  \n",
      "0        F   Father   NaN  16.0     2  20  \n",
      "1        F   Father  20.0  20.0     3  25  \n",
      "2        F   Father  10.0   7.0     0  30  \n",
      "3        F   Father   NaN  25.0     5  35  \n",
      "4        F   Father  40.0  50.0    12  50  \n",
      "5        F   Father  42.0  30.0    13  70  \n",
      "6        F   Father  35.0  12.0     0  17  \n",
      "7        F      NaN   NaN   NaN    15  22  \n",
      "8        F   Father  12.0  21.0    16  50  \n",
      "9        F   Father   NaN  80.0    25  70  \n"
     ]
    }
   ],
   "source": [
    "url = \"eduData.csv\"\n",
    "df = pd.read_csv(url)\n",
    "print(df.head(10))"
   ]
  },
  {
   "cell_type": "code",
   "execution_count": 3,
   "id": "9662fb22",
   "metadata": {},
   "outputs": [
    {
     "name": "stdout",
     "output_type": "stream",
     "text": [
      "gender          6\n",
      "NationalITy     1\n",
      "PlaceofBirth    5\n",
      "StageID         2\n",
      "GradeID         1\n",
      "SectionID       0\n",
      "Topic           4\n",
      "Semester        0\n",
      "Relation        2\n",
      "cns             7\n",
      "dsa             1\n",
      "oops            0\n",
      "os              0\n",
      "dtype: int64\n"
     ]
    }
   ],
   "source": [
    "#check no null value in each column\n",
    "print(df.isnull().sum())"
   ]
  },
  {
   "cell_type": "code",
   "execution_count": 4,
   "id": "900bc5e7",
   "metadata": {},
   "outputs": [],
   "source": [
    "# Ways to fill the null values\n",
    "# 1. simply drop the row having null value\n",
    "# 2. imputate with mean,median or mode.\n",
    "# 3.fill with random value like \"Unknown\"\n",
    "# 4.replace categorical variable with previous value\n",
    "# 5.replace inconsitent data with null value.\n",
    "#6. imputate by interpolation"
   ]
  },
  {
   "cell_type": "code",
   "execution_count": 5,
   "id": "d984fe02",
   "metadata": {},
   "outputs": [
    {
     "name": "stdout",
     "output_type": "stream",
     "text": [
      "gender          0\n",
      "NationalITy     0\n",
      "PlaceofBirth    0\n",
      "StageID         0\n",
      "GradeID         0\n",
      "SectionID       0\n",
      "Topic           0\n",
      "Semester        0\n",
      "Relation        0\n",
      "cns             0\n",
      "dsa             0\n",
      "oops            0\n",
      "os              0\n",
      "dtype: int64\n",
      "Before dropping null values:-  (9, 13)\n",
      "After dropping null values:-  (28, 13)\n"
     ]
    }
   ],
   "source": [
    "#drop the whole row which is having NULL value\n",
    "t=df.dropna()\n",
    "print(t.isnull().sum())\n",
    "print(\"Before dropping null values:- \",t.shape)\n",
    "print(\"After dropping null values:- \",df.shape)"
   ]
  },
  {
   "cell_type": "code",
   "execution_count": 6,
   "id": "19da9823",
   "metadata": {},
   "outputs": [
    {
     "name": "stdout",
     "output_type": "stream",
     "text": [
      "0     25.571429\n",
      "1     20.000000\n",
      "2     10.000000\n",
      "3     25.571429\n",
      "4     40.000000\n",
      "5     42.000000\n",
      "6     35.000000\n",
      "7     25.571429\n",
      "8     12.000000\n",
      "9     25.571429\n",
      "10    50.000000\n",
      "11    19.000000\n",
      "12     5.000000\n",
      "13    20.000000\n",
      "14    25.571429\n",
      "15    30.000000\n",
      "16    36.000000\n",
      "17    25.571429\n",
      "18    69.000000\n",
      "19    70.000000\n",
      "20    25.571429\n",
      "21    10.000000\n",
      "22    15.000000\n",
      "23     2.000000\n",
      "24     0.000000\n",
      "25     8.000000\n",
      "26    19.000000\n",
      "27    25.000000\n",
      "Name: cns, dtype: float64\n"
     ]
    }
   ],
   "source": [
    "#imputation by mean\n",
    "url = \"eduData.csv\"\n",
    "df = pd.read_csv(url)\n",
    "df[\"cns\"]=df[\"cns\"].replace(np.NAN,df[\"cns\"].mean())\n",
    "\n",
    "print(df[\"cns\"])"
   ]
  },
  {
   "cell_type": "code",
   "execution_count": 7,
   "id": "45d5def2",
   "metadata": {},
   "outputs": [],
   "source": [
    "# imputation using interpolation\n",
    "# Linear Interpolation simply means to estimate a missing value by connecting dots in a straight line in \n",
    "# increasing order. In short, It estimates the unknown value in the same increasing order from previous values."
   ]
  },
  {
   "cell_type": "code",
   "execution_count": 8,
   "id": "8faef024",
   "metadata": {},
   "outputs": [
    {
     "name": "stdout",
     "output_type": "stream",
     "text": [
      "0      NaN\n",
      "1     20.0\n",
      "2     10.0\n",
      "3     25.0\n",
      "4     40.0\n",
      "5     42.0\n",
      "6     35.0\n",
      "7     23.5\n",
      "8     12.0\n",
      "9     31.0\n",
      "10    50.0\n",
      "11    19.0\n",
      "12     5.0\n",
      "13    20.0\n",
      "14    25.0\n",
      "15    30.0\n",
      "16    36.0\n",
      "17    52.5\n",
      "18    69.0\n",
      "19    70.0\n",
      "20    40.0\n",
      "21    10.0\n",
      "22    15.0\n",
      "23     2.0\n",
      "24     0.0\n",
      "25     8.0\n",
      "26    19.0\n",
      "27    25.0\n",
      "Name: cns, dtype: float64\n"
     ]
    }
   ],
   "source": [
    "import statistics\n",
    "df = pd.read_csv(url)\n",
    "df[\"cns\"]=df[\"cns\"].interpolate(method='linear')\n",
    "print(df[\"cns\"])"
   ]
  },
  {
   "cell_type": "code",
   "execution_count": 9,
   "id": "4ba504b7",
   "metadata": {},
   "outputs": [
    {
     "name": "stdout",
     "output_type": "stream",
     "text": [
      "0     unknown\n",
      "1           M\n",
      "2           M\n",
      "3           M\n",
      "4     unknown\n",
      "5           F\n",
      "6           M\n",
      "7           M\n",
      "8           F\n",
      "9           F\n",
      "10          M\n",
      "11          M\n",
      "12          M\n",
      "13          M\n",
      "14          F\n",
      "15          F\n",
      "16    unknown\n",
      "17          M\n",
      "18          F\n",
      "19    unknown\n",
      "20          F\n",
      "21          F\n",
      "22          M\n",
      "23    unknown\n",
      "24          M\n",
      "25          M\n",
      "26    unknown\n",
      "27          M\n",
      "Name: gender, dtype: object\n"
     ]
    }
   ],
   "source": [
    "#replace categorical variable with random value\n",
    "df[\"gender\"]=df[\"gender\"].fillna('unknown')\n",
    "print(df[\"gender\"])"
   ]
  },
  {
   "cell_type": "code",
   "execution_count": 10,
   "id": "4c5e84c8",
   "metadata": {},
   "outputs": [
    {
     "name": "stdout",
     "output_type": "stream",
     "text": [
      "0     NaN\n",
      "1       M\n",
      "2       M\n",
      "3       M\n",
      "4       M\n",
      "5       F\n",
      "6       M\n",
      "7       M\n",
      "8       F\n",
      "9       F\n",
      "10      M\n",
      "11      M\n",
      "12      M\n",
      "13      M\n",
      "14      F\n",
      "15      F\n",
      "16      F\n",
      "17      M\n",
      "18      F\n",
      "19      F\n",
      "20      F\n",
      "21      F\n",
      "22      M\n",
      "23      M\n",
      "24      M\n",
      "25      M\n",
      "26      M\n",
      "27      M\n",
      "Name: gender, dtype: object\n"
     ]
    }
   ],
   "source": [
    "#replace categorical variable with previous value\n",
    "df = pd.read_csv(url)\n",
    "df[\"gender\"]=df[\"gender\"].fillna(method='ffill')\n",
    "print(df[\"gender\"])"
   ]
  },
  {
   "cell_type": "code",
   "execution_count": 11,
   "id": "2c8f1c36",
   "metadata": {},
   "outputs": [
    {
     "name": "stdout",
     "output_type": "stream",
     "text": [
      "0     NaN\n",
      "1       M\n",
      "2       M\n",
      "3       M\n",
      "4     NaN\n",
      "5       F\n",
      "6       M\n",
      "7       M\n",
      "8       F\n",
      "9       F\n",
      "10      M\n",
      "11      M\n",
      "12      M\n",
      "13      M\n",
      "14      F\n",
      "15      F\n",
      "16    NaN\n",
      "17      M\n",
      "18      F\n",
      "19    NaN\n",
      "20      F\n",
      "21      F\n",
      "22      M\n",
      "23    NaN\n",
      "24      M\n",
      "25      M\n",
      "26    NaN\n",
      "27      M\n",
      "Name: gender, dtype: object\n"
     ]
    }
   ],
   "source": [
    "df = pd.read_csv(url)\n",
    "#creating the inconsistent data\n",
    "df[\"gender\"]=df[\"gender\"].fillna(100)\n",
    "cnt=0\n",
    "for row in df[\"gender\"]:\n",
    "    try:\n",
    "        int(row)\n",
    "        df.loc[cnt,\"gender\"]=np.nan\n",
    "    except ValueError:\n",
    "        pass\n",
    "    cnt+=1\n",
    "    \n",
    "print(df[\"gender\"])"
   ]
  },
  {
   "cell_type": "code",
   "execution_count": 12,
   "id": "0bcc5607",
   "metadata": {},
   "outputs": [
    {
     "data": {
      "text/plain": [
       "cns     0.946321\n",
       "dsa     1.241056\n",
       "oops    0.440346\n",
       "os      0.056839\n",
       "dtype: float64"
      ]
     },
     "execution_count": 12,
     "metadata": {},
     "output_type": "execute_result"
    }
   ],
   "source": [
    "#data Tranformation to decrease the skewness\n",
    "# Skewness is a measure of the asymmetry of the probability distribution of a \n",
    "#real-valued random variable about its mean.\n",
    "df.skew(numeric_only=True)"
   ]
  },
  {
   "cell_type": "code",
   "execution_count": 13,
   "id": "fb8035bb",
   "metadata": {},
   "outputs": [
    {
     "data": {
      "text/plain": [
       "array([[<AxesSubplot:title={'center':'cns'}>,\n",
       "        <AxesSubplot:title={'center':'dsa'}>],\n",
       "       [<AxesSubplot:title={'center':'oops'}>,\n",
       "        <AxesSubplot:title={'center':'os'}>]], dtype=object)"
      ]
     },
     "execution_count": 13,
     "metadata": {},
     "output_type": "execute_result"
    },
    {
     "data": {
      "image/png": "[encoded data removed]",
      "text/plain": [
       "<Figure size 720x432 with 4 Axes>"
      ]
     },
     "metadata": {
      "needs_background": "light"
     },
     "output_type": "display_data"
    }
   ],
   "source": [
    "df.hist(grid=False,\n",
    "       figsize=(10, 6),\n",
    "       bins=30)"
   ]
  },
  {
   "cell_type": "code",
   "execution_count": 14,
   "id": "01a939b8",
   "metadata": {},
   "outputs": [],
   "source": [
    "df.insert(len(df.columns), 'dsa_Sqrt',\n",
    "         np.sqrt(df.dsa))"
   ]
  },
  {
   "cell_type": "code",
   "execution_count": 15,
   "id": "b6522fec",
   "metadata": {},
   "outputs": [
    {
     "data": {
      "text/plain": [
       "cns         0.946321\n",
       "dsa         1.241056\n",
       "oops        0.440346\n",
       "os          0.056839\n",
       "dsa_Sqrt    0.291450\n",
       "dtype: float64"
      ]
     },
     "execution_count": 15,
     "metadata": {},
     "output_type": "execute_result"
    }
   ],
   "source": [
    "df.skew(numeric_only=True)"
   ]
  },
  {
   "cell_type": "code",
   "execution_count": 16,
   "id": "760e5fde",
   "metadata": {},
   "outputs": [
    {
     "data": {
      "text/plain": [
       "<AxesSubplot:xlabel='os'>"
      ]
     },
     "execution_count": 16,
     "metadata": {},
     "output_type": "execute_result"
    },
    {
     "data": {
      "image/png": "[encoded data removed]",
      "text/plain": [
       "<Figure size 432x288 with 1 Axes>"
      ]
     },
     "metadata": {
      "needs_background": "light"
     },
     "output_type": "display_data"
    }
   ],
   "source": [
    "#identify outliers and handle them\n",
    "sns.boxplot(x=df[\"os\"])"
   ]
  },
  {
   "cell_type": "code",
   "execution_count": 17,
   "id": "7827c5f2",
   "metadata": {},
   "outputs": [
    {
     "data": {
      "text/plain": [
       "<AxesSubplot:xlabel='cns'>"
      ]
     },
     "execution_count": 17,
     "metadata": {},
     "output_type": "execute_result"
    },
    {
     "data": {
      "image/png": "[encoded data removed]",
      "text/plain": [
       "<Figure size 432x288 with 1 Axes>"
      ]
     },
     "metadata": {
      "needs_background": "light"
     },
     "output_type": "display_data"
    }
   ],
   "source": [
    "sns.boxplot(x=df[\"cns\"])"
   ]
  },
  {
   "cell_type": "code",
   "execution_count": 18,
   "id": "3d8c07e8",
   "metadata": {},
   "outputs": [
    {
     "data": {
      "text/plain": [
       "<AxesSubplot:xlabel='dsa'>"
      ]
     },
     "execution_count": 18,
     "metadata": {},
     "output_type": "execute_result"
    },
    {
     "data": {
      "image/png": "[encoded data removed]",
      "text/plain": [
       "<Figure size 432x288 with 1 Axes>"
      ]
     },
     "metadata": {
      "needs_background": "light"
     },
     "output_type": "display_data"
    }
   ],
   "source": [
    "#We can clearly see that 3 values greater than 60 are outliers.\n",
    "sns.boxplot(x=df[\"dsa\"])"
   ]
  },
  {
   "cell_type": "code",
   "execution_count": 19,
   "id": "1c940ba1",
   "metadata": {},
   "outputs": [
    {
     "name": "stdout",
     "output_type": "stream",
     "text": [
      "(array([ 9, 10, 14], dtype=int64),)\n"
     ]
    },
    {
     "data": {
      "text/plain": [
       "(28, 14)"
      ]
     },
     "execution_count": 19,
     "metadata": {},
     "output_type": "execute_result"
    }
   ],
   "source": [
    "print(np.where(df['dsa']>65))\n",
    "outliers=np.where(df['dsa']>65)\n",
    "df.head(10)\n",
    "df.shape"
   ]
  },
  {
   "cell_type": "code",
   "execution_count": 20,
   "id": "2d8b5f70",
   "metadata": {},
   "outputs": [
    {
     "name": "stdout",
     "output_type": "stream",
     "text": [
      "   gender NationalITy PlaceofBirth       StageID GradeID SectionID   Topic  \\\n",
      "0     NaN          KW       KuwaIT    lowerlevel    G-04         A      IT   \n",
      "1       M          KW          NaN    lowerlevel    G-04         A     NaN   \n",
      "2       M          KW       KuwaIT           NaN    G-04         A      IT   \n",
      "3       M          KW       KuwaIT    lowerlevel    G-04         A      IT   \n",
      "4     NaN          KW       KuwaIT    lowerlevel    G-04         A      IT   \n",
      "5       F          KW       KuwaIT    lowerlevel    G-04         A      IT   \n",
      "6       M          KW       KuwaIT  MiddleSchool    G-07         A     NaN   \n",
      "7       M          KW          NaN  MiddleSchool    G-07         A    Math   \n",
      "8       F          KW       KuwaIT  MiddleSchool    G-07         A    Math   \n",
      "9       F          KW       KuwaIT  MiddleSchool    G-07         B      IT   \n",
      "10      M          KW       KuwaIT  MiddleSchool    G-07         A    Math   \n",
      "11      M          KW       KuwaIT  MiddleSchool    G-07         B    Math   \n",
      "12      M          KW       KuwaIT    lowerlevel     NaN         A      IT   \n",
      "13      M     lebanon      lebanon           NaN    G-08         A    Math   \n",
      "14      F          KW       KuwaIT  MiddleSchool    G-08         A    Math   \n",
      "15      F          KW       KuwaIT  MiddleSchool    G-06         A      IT   \n",
      "16    NaN         NaN       KuwaIT  MiddleSchool    G-07         B      IT   \n",
      "17      M          KW          NaN  MiddleSchool    G-07         A     NaN   \n",
      "18      F          KW       KuwaIT  MiddleSchool    G-07         A      IT   \n",
      "19    NaN          KW       KuwaIT  MiddleSchool    G-07         B      IT   \n",
      "20      F          KW          NaN  MiddleSchool    G-07         A      IT   \n",
      "21      F          KW       KuwaIT  MiddleSchool    G-07         B      IT   \n",
      "22      M          KW       KuwaIT  MiddleSchool    G-07         A      IT   \n",
      "23    NaN          KW       KuwaIT  MiddleSchool    G-07         A      IT   \n",
      "24      M          KW       KuwaIT  MiddleSchool    G-07         B     NaN   \n",
      "25      M          KW          NaN  MiddleSchool    G-07         A      IT   \n",
      "26    NaN          KW       KuwaIT  MiddleSchool    G-07         B      IT   \n",
      "27      M          KW       KuwaIT  MiddleSchool    G-08         A  Arabic   \n",
      "\n",
      "   Semester Relation   cns   dsa  oops  os  dsa_Sqrt  \n",
      "0         F   Father   NaN  16.0     2  20  4.000000  \n",
      "1         F   Father  20.0  20.0     3  25  4.472136  \n",
      "2         F   Father  10.0   7.0     0  30  2.645751  \n",
      "3         F   Father   NaN  25.0     5  35  5.000000  \n",
      "4         F   Father  40.0  50.0    12  50  7.071068  \n",
      "5         F   Father  42.0  30.0    13  70  5.477226  \n",
      "6         F   Father  35.0  12.0     0  17  3.464102  \n",
      "7         F      NaN   NaN   NaN    15  22       NaN  \n",
      "8         F   Father  12.0  21.0    16  50  4.582576  \n",
      "9         F   Father   NaN  80.0    25  70  8.944272  \n",
      "10        F   Father  50.0  88.0    30  80  9.380832  \n",
      "11        F   Father  19.0   6.0    19  12  2.449490  \n",
      "12        F   Father   5.0   1.0     0  11  1.000000  \n",
      "13        F   Father  20.0  14.0    12  19  3.741657  \n",
      "14        F      NaN   NaN  70.0    44  60  8.366600  \n",
      "15        F   Father  30.0  40.0    22  66  6.324555  \n",
      "16        F   Father  36.0  30.0    20  80  5.477226  \n",
      "17        F   Father   NaN  13.0    35  90  3.605551  \n",
      "18        F      Mum  69.0  15.0    36  96  3.872983  \n",
      "19        F      Mum  70.0  50.0    40  99  7.071068  \n",
      "20        F   Father   NaN  60.0    33  90  7.745967  \n",
      "21        F   Father  10.0  12.0     4  80  3.464102  \n",
      "22        F   Father  15.0  21.0     2  90  4.582576  \n",
      "23        F   Father   2.0   0.0     2  50  0.000000  \n",
      "24        F   Father   0.0   2.0     3  70  1.414214  \n",
      "25        F   Father   8.0   7.0    30  40  2.645751  \n",
      "26        F   Father  19.0  19.0    25  40  4.358899  \n",
      "27        F   Father  25.0  15.0    12  33  3.872983  \n"
     ]
    }
   ],
   "source": [
    "print(df)"
   ]
  },
  {
   "cell_type": "code",
   "execution_count": 21,
   "id": "28994526",
   "metadata": {},
   "outputs": [],
   "source": [
    "new_df = df.drop(df.index[outliers])\n"
   ]
  },
  {
   "cell_type": "code",
   "execution_count": 22,
   "id": "61cf12c9",
   "metadata": {},
   "outputs": [
    {
     "name": "stdout",
     "output_type": "stream",
     "text": [
      "Previous size :- (28, 14)\n",
      "Current size :-  (25, 14)\n"
     ]
    }
   ],
   "source": [
    "print(\"Previous size :-\",df.shape)\n",
    "print(\"Current size :- \",new_df.shape)"
   ]
  },
  {
   "cell_type": "code",
   "execution_count": null,
   "id": "c20ee053",
   "metadata": {},
   "outputs": [],
   "source": []
  }
 ],
 "metadata": {
  "kernelspec": {
   "display_name": "Python 3 (ipykernel)",
   "language": "python",
   "name": "python3"
  },
  "language_info": {
   "codemirror_mode": {
    "name": "ipython",
    "version": 3
   },
   "file_extension": ".py",
   "mimetype": "text/x-python",
   "name": "python",
   "nbconvert_exporter": "python",
   "pygments_lexer": "ipython3",
   "version": "3.9.7"
  }
 },
 "nbformat": 4,
 "nbformat_minor": 5
}
